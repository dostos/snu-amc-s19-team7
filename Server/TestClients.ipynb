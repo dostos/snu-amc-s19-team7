{
 "cells": [
  {
   "cell_type": "code",
   "execution_count": null,
   "metadata": {},
   "outputs": [],
   "source": [
    "import os\n",
    "\n",
    "print(os.getcwd())\n"
   ]
  },
  {
   "cell_type": "code",
   "execution_count": 13,
   "metadata": {},
   "outputs": [],
   "source": [
    "import asyncio\n",
    "import numpy as np\n",
    "import math\n",
    "from TestClient import test_client\n",
    "\n",
    "from sidecar import Sidecar\n",
    "from ipyleaflet import *\n",
    "\n",
    "from colorhash import ColorHash\n",
    "\n",
    "# generally used geo measurement function\n",
    "def measure(lat1, lon1, lat2, lon2) :  \n",
    "    R = 6378.137 # Radius of earth in KM\n",
    "    dLat = lat2 * math.pi / 180 - lat1 * math.pi / 180\n",
    "    dLon = lon2 * math.pi / 180 - lon1 * math.pi / 180\n",
    "    a = math.sin(dLat/2) * math.sin(dLat/2) + math.cos(lat1 * math.pi / 180) * math.cos(lat2 * math.pi / 180) * math.sin(dLon/2) * math.sin(dLon/2)\n",
    "    c = 2 * math.atan2(math.sqrt(a), math.sqrt(1-a))\n",
    "    d = R * c\n",
    "    return d * 1000\n",
    "\n",
    "icon_dict = { \n",
    "    test_client.UserStatus.NON_GROUP_MEMBER : \n",
    "    Icon(icon_url='http://getdrawings.com/free-icon/man-icon-64.png', icon_size=[38, 38]),\n",
    "    test_client.UserStatus.GROUP_MEMBER : \n",
    "    Icon(icon_url='http://getdrawings.com/free-icon/man-icon-58.png', icon_size=[38, 38]),\n",
    "    test_client.UserStatus.GROUP_LEADER : \n",
    "    Icon(icon_url='http://getdrawings.com/free-icon/leadership-icon-png-62.png', icon_size=[38, 38]) \n",
    "}\n",
    "\n",
    "snu_position = (37.4556699,126.9533264)\n",
    "num_clients = 15\n",
    "\n",
    "\n",
    "m = Map(center=snu_position, zoom=15, basemap=basemaps.Esri.WorldStreetMap)\n",
    "\n",
    "markers = []\n",
    "marker_clusters = {}\n",
    "\n",
    "for i in range(num_clients):\n",
    "    markers.append(Marker(location=m.center, icon=icon_dict[test_client.UserStatus.NON_GROUP_MEMBER], draggable=False))\n",
    "    m += markers[i]\n",
    "    \n",
    "sc = Sidecar(title='Sidecar Output')\n",
    "with sc:\n",
    "    display(m)\n",
    "    \n",
    "def client_callback(clients):\n",
    "    group_dict = {}\n",
    "    for i in range(num_clients):\n",
    "        markers[i].location = clients[i].position.tolist()\n",
    "        markers[i].icon = icon_dict[clients[i].status]\n",
    "        if clients[i].group_id is not None or clients[i].status is not test_client.UserStatus.NON_GROUP_MEMBER:\n",
    "            group_dict.setdefault(clients[i].group_id, []).append(i)\n",
    "    \n",
    "    for marker_cluster in marker_clusters.values():\n",
    "        m.remove_layer(marker_cluster)\n",
    "    \n",
    "    marker_clusters.clear()\n",
    "    \n",
    "    # change this to a circle\n",
    "    for group_id, id_list in group_dict.items():\n",
    "        locations = []\n",
    "        for i in id_list:\n",
    "            locations.append(markers[i].location)\n",
    "        \n",
    "        marker_clusters[group_id] = Polygon(locations=locations, color = ColorHash(group_id).hex)\n",
    "        #marker_clusters[group_id].setRadius(max_distance)\n",
    "        m.add_layer(marker_clusters[group_id])\n",
    "      \n",
    "    \n",
    "    \n",
    "    \n",
    "try:\n",
    "    loop = asyncio.get_running_loop()\n",
    "except RuntimeError:   \n",
    "    loop = asyncio.get_event_loop()\n",
    "    \n",
    "task = asyncio.create_task(test_client.execute(loop, test_client.PositionUpdateTest, num_clients, 'http://localhost:8080/', client_callback))\n",
    "\n",
    "\n"
   ]
  },
  {
   "cell_type": "code",
   "execution_count": 9,
   "metadata": {},
   "outputs": [
    {
     "name": "stdout",
     "output_type": "stream",
     "text": [
      "Start task\n"
     ]
    }
   ],
   "source": [
    "print(\"Start task\")"
   ]
  },
  {
   "cell_type": "code",
   "execution_count": 12,
   "metadata": {},
   "outputs": [
    {
     "name": "stdout",
     "output_type": "stream",
     "text": [
      "[ 37.4602435 126.9584412]\n"
     ]
    }
   ],
   "source": [
    "# You must cancel existing task here to re-run a script above.\n",
    "# Resetting a event loop is not going to work properly \n",
    "# since it's shared with a IPython kernel\n",
    "task.cancel()\n",
    "sc.close()\n"
   ]
  },
  {
   "cell_type": "code",
   "execution_count": null,
   "metadata": {},
   "outputs": [],
   "source": []
  },
  {
   "cell_type": "code",
   "execution_count": null,
   "metadata": {},
   "outputs": [],
   "source": []
  },
  {
   "cell_type": "code",
   "execution_count": null,
   "metadata": {},
   "outputs": [],
   "source": []
  },
  {
   "cell_type": "code",
   "execution_count": null,
   "metadata": {},
   "outputs": [],
   "source": []
  }
 ],
 "metadata": {
  "kernelspec": {
   "display_name": "Python 3",
   "language": "python",
   "name": "python3"
  },
  "language_info": {
   "codemirror_mode": {
    "name": "ipython",
    "version": 3
   },
   "file_extension": ".py",
   "mimetype": "text/x-python",
   "name": "python",
   "nbconvert_exporter": "python",
   "pygments_lexer": "ipython3",
   "version": "3.7.3"
  }
 },
 "nbformat": 4,
 "nbformat_minor": 2
}
