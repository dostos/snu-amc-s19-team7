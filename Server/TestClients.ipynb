{
 "cells": [
  {
   "cell_type": "code",
   "execution_count": 4,
   "metadata": {},
   "outputs": [
    {
     "name": "stdout",
     "output_type": "stream",
     "text": [
      "C:\\gh\\snu-amc-s19-team7\\Server\n"
     ]
    }
   ],
   "source": [
    "import os\n",
    "\n",
    "print(os.getcwd())\n"
   ]
  },
  {
   "cell_type": "code",
   "execution_count": 5,
   "metadata": {},
   "outputs": [
    {
     "ename": "SyntaxError",
     "evalue": "import * only allowed at module level (<ipython-input-5-8f910c076247>, line 2)",
     "output_type": "error",
     "traceback": [
      "\u001b[1;36m  File \u001b[1;32m\"<ipython-input-5-8f910c076247>\"\u001b[1;36m, line \u001b[1;32m2\u001b[0m\n\u001b[1;33m    from TestClient import test_client\u001b[0m\n\u001b[1;37m                                      ^\u001b[0m\n\u001b[1;31mSyntaxError\u001b[0m\u001b[1;31m:\u001b[0m import * only allowed at module level\n"
     ]
    }
   ],
   "source": [
    "import asyncio\n",
    "from TestClient import test_client\n",
    "\n",
    "from sidecar import Sidecar\n",
    "from ipyleaflet import *\n",
    "\n",
    "snu_position = (37.4556699,126.9533264)\n",
    "num_clients = 15\n",
    "\n",
    "m = Map(center=snu_position, zoom=15, basemap=basemaps.Esri.WorldStreetMap)\n",
    "\n",
    "markers = []\n",
    "for i in range(num_clients):\n",
    "    markers.append(Marker(location=m.center))\n",
    "    m += markers[i]\n",
    "\n",
    "sc = Sidecar(title='Sidecar Output')\n",
    "with sc:\n",
    "    display(m)\n",
    "    \n",
    "def client_callback(clients):\n",
    "    for i in range(num_clients):\n",
    "        markers[i].center = clients[i].position\n",
    "\n",
    "await test_client.execute(asyncio.get_running_loop(), test_client.RoleUpdateTest, num_clients, 'http://localhost:8080/', client_callback)"
   ]
  },
  {
   "cell_type": "code",
   "execution_count": null,
   "metadata": {},
   "outputs": [],
   "source": []
  },
  {
   "cell_type": "code",
   "execution_count": null,
   "metadata": {},
   "outputs": [],
   "source": []
  },
  {
   "cell_type": "code",
   "execution_count": null,
   "metadata": {},
   "outputs": [],
   "source": []
  },
  {
   "cell_type": "code",
   "execution_count": null,
   "metadata": {},
   "outputs": [],
   "source": []
  },
  {
   "cell_type": "code",
   "execution_count": null,
   "metadata": {},
   "outputs": [],
   "source": []
  },
  {
   "cell_type": "code",
   "execution_count": null,
   "metadata": {},
   "outputs": [],
   "source": []
  }
 ],
 "metadata": {
  "kernelspec": {
   "display_name": "Python 3",
   "language": "python",
   "name": "python3"
  },
  "language_info": {
   "codemirror_mode": {
    "name": "ipython",
    "version": 3
   },
   "file_extension": ".py",
   "mimetype": "text/x-python",
   "name": "python",
   "nbconvert_exporter": "python",
   "pygments_lexer": "ipython3",
   "version": "3.7.3"
  }
 },
 "nbformat": 4,
 "nbformat_minor": 2
}
